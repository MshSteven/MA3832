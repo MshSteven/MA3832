{
  "nbformat": 4,
  "nbformat_minor": 0,
  "metadata": {
    "colab": {
      "provenance": [],
      "collapsed_sections": [
        "wJcTf7WkeFf5"
      ],
      "include_colab_link": true
    },
    "kernelspec": {
      "name": "python3",
      "display_name": "Python 3"
    },
    "language_info": {
      "name": "python"
    }
  },
  "cells": [
    {
      "cell_type": "markdown",
      "metadata": {
        "id": "view-in-github",
        "colab_type": "text"
      },
      "source": [
        "<a href=\"https://colab.research.google.com/github/MshSteven/MA3832/blob/main/Week1_ReviewML.ipynb\" target=\"_parent\"><img src=\"https://colab.research.google.com/assets/colab-badge.svg\" alt=\"Open In Colab\"/></a>"
      ]
    },
    {
      "cell_type": "markdown",
      "source": [
        "# Data Exploration"
      ],
      "metadata": {
        "id": "8EhMYCi-eNgP"
      }
    },
    {
      "cell_type": "code",
      "execution_count": null,
      "metadata": {
        "id": "Bdcq1muFctYa"
      },
      "outputs": [],
      "source": [
        "import os\n",
        "import pandas as pd\n",
        "import matplotlib.pyplot as plt"
      ]
    },
    {
      "cell_type": "code",
      "source": [
        "#1 Load data\n",
        "url= \"https://raw.githubusercontent.com/ageron/handson-ml2/master/datasets/housing/housing.csv\"\n",
        "data = pd.read_csv(url, sep=\",\")"
      ],
      "metadata": {
        "id": "4lPGtrgidFzy"
      },
      "execution_count": 2,
      "outputs": []
    },
    {
      "cell_type": "code",
      "source": [
        "#2)Comment on the explanatory variables of the data.\n",
        "data_desc = data.describe() #does a statistical by column\n",
        "data_desc\n",
        "#print(data_desc)"
      ],
      "metadata": {
        "id": "tN898TnwdLz1",
        "colab": {
          "base_uri": "https://localhost:8080/",
          "height": 300
        },
        "outputId": "e05f7ff6-05dd-4753-f8a6-f030f0ee33c7"
      },
      "execution_count": null,
      "outputs": [
        {
          "output_type": "execute_result",
          "data": {
            "text/plain": [
              "          longitude      latitude  housing_median_age   total_rooms  \\\n",
              "count  20640.000000  20640.000000        20640.000000  20640.000000   \n",
              "mean    -119.569704     35.631861           28.639486   2635.763081   \n",
              "std        2.003532      2.135952           12.585558   2181.615252   \n",
              "min     -124.350000     32.540000            1.000000      2.000000   \n",
              "25%     -121.800000     33.930000           18.000000   1447.750000   \n",
              "50%     -118.490000     34.260000           29.000000   2127.000000   \n",
              "75%     -118.010000     37.710000           37.000000   3148.000000   \n",
              "max     -114.310000     41.950000           52.000000  39320.000000   \n",
              "\n",
              "       total_bedrooms    population    households  median_income  \\\n",
              "count    20433.000000  20640.000000  20640.000000   20640.000000   \n",
              "mean       537.870553   1425.476744    499.539680       3.870671   \n",
              "std        421.385070   1132.462122    382.329753       1.899822   \n",
              "min          1.000000      3.000000      1.000000       0.499900   \n",
              "25%        296.000000    787.000000    280.000000       2.563400   \n",
              "50%        435.000000   1166.000000    409.000000       3.534800   \n",
              "75%        647.000000   1725.000000    605.000000       4.743250   \n",
              "max       6445.000000  35682.000000   6082.000000      15.000100   \n",
              "\n",
              "       median_house_value  \n",
              "count        20640.000000  \n",
              "mean        206855.816909  \n",
              "std         115395.615874  \n",
              "min          14999.000000  \n",
              "25%         119600.000000  \n",
              "50%         179700.000000  \n",
              "75%         264725.000000  \n",
              "max         500001.000000  "
            ],
            "text/html": [
              "\n",
              "  <div id=\"df-63b656ef-329c-402b-a998-74acdc53d2dd\">\n",
              "    <div class=\"colab-df-container\">\n",
              "      <div>\n",
              "<style scoped>\n",
              "    .dataframe tbody tr th:only-of-type {\n",
              "        vertical-align: middle;\n",
              "    }\n",
              "\n",
              "    .dataframe tbody tr th {\n",
              "        vertical-align: top;\n",
              "    }\n",
              "\n",
              "    .dataframe thead th {\n",
              "        text-align: right;\n",
              "    }\n",
              "</style>\n",
              "<table border=\"1\" class=\"dataframe\">\n",
              "  <thead>\n",
              "    <tr style=\"text-align: right;\">\n",
              "      <th></th>\n",
              "      <th>longitude</th>\n",
              "      <th>latitude</th>\n",
              "      <th>housing_median_age</th>\n",
              "      <th>total_rooms</th>\n",
              "      <th>total_bedrooms</th>\n",
              "      <th>population</th>\n",
              "      <th>households</th>\n",
              "      <th>median_income</th>\n",
              "      <th>median_house_value</th>\n",
              "    </tr>\n",
              "  </thead>\n",
              "  <tbody>\n",
              "    <tr>\n",
              "      <th>count</th>\n",
              "      <td>20640.000000</td>\n",
              "      <td>20640.000000</td>\n",
              "      <td>20640.000000</td>\n",
              "      <td>20640.000000</td>\n",
              "      <td>20433.000000</td>\n",
              "      <td>20640.000000</td>\n",
              "      <td>20640.000000</td>\n",
              "      <td>20640.000000</td>\n",
              "      <td>20640.000000</td>\n",
              "    </tr>\n",
              "    <tr>\n",
              "      <th>mean</th>\n",
              "      <td>-119.569704</td>\n",
              "      <td>35.631861</td>\n",
              "      <td>28.639486</td>\n",
              "      <td>2635.763081</td>\n",
              "      <td>537.870553</td>\n",
              "      <td>1425.476744</td>\n",
              "      <td>499.539680</td>\n",
              "      <td>3.870671</td>\n",
              "      <td>206855.816909</td>\n",
              "    </tr>\n",
              "    <tr>\n",
              "      <th>std</th>\n",
              "      <td>2.003532</td>\n",
              "      <td>2.135952</td>\n",
              "      <td>12.585558</td>\n",
              "      <td>2181.615252</td>\n",
              "      <td>421.385070</td>\n",
              "      <td>1132.462122</td>\n",
              "      <td>382.329753</td>\n",
              "      <td>1.899822</td>\n",
              "      <td>115395.615874</td>\n",
              "    </tr>\n",
              "    <tr>\n",
              "      <th>min</th>\n",
              "      <td>-124.350000</td>\n",
              "      <td>32.540000</td>\n",
              "      <td>1.000000</td>\n",
              "      <td>2.000000</td>\n",
              "      <td>1.000000</td>\n",
              "      <td>3.000000</td>\n",
              "      <td>1.000000</td>\n",
              "      <td>0.499900</td>\n",
              "      <td>14999.000000</td>\n",
              "    </tr>\n",
              "    <tr>\n",
              "      <th>25%</th>\n",
              "      <td>-121.800000</td>\n",
              "      <td>33.930000</td>\n",
              "      <td>18.000000</td>\n",
              "      <td>1447.750000</td>\n",
              "      <td>296.000000</td>\n",
              "      <td>787.000000</td>\n",
              "      <td>280.000000</td>\n",
              "      <td>2.563400</td>\n",
              "      <td>119600.000000</td>\n",
              "    </tr>\n",
              "    <tr>\n",
              "      <th>50%</th>\n",
              "      <td>-118.490000</td>\n",
              "      <td>34.260000</td>\n",
              "      <td>29.000000</td>\n",
              "      <td>2127.000000</td>\n",
              "      <td>435.000000</td>\n",
              "      <td>1166.000000</td>\n",
              "      <td>409.000000</td>\n",
              "      <td>3.534800</td>\n",
              "      <td>179700.000000</td>\n",
              "    </tr>\n",
              "    <tr>\n",
              "      <th>75%</th>\n",
              "      <td>-118.010000</td>\n",
              "      <td>37.710000</td>\n",
              "      <td>37.000000</td>\n",
              "      <td>3148.000000</td>\n",
              "      <td>647.000000</td>\n",
              "      <td>1725.000000</td>\n",
              "      <td>605.000000</td>\n",
              "      <td>4.743250</td>\n",
              "      <td>264725.000000</td>\n",
              "    </tr>\n",
              "    <tr>\n",
              "      <th>max</th>\n",
              "      <td>-114.310000</td>\n",
              "      <td>41.950000</td>\n",
              "      <td>52.000000</td>\n",
              "      <td>39320.000000</td>\n",
              "      <td>6445.000000</td>\n",
              "      <td>35682.000000</td>\n",
              "      <td>6082.000000</td>\n",
              "      <td>15.000100</td>\n",
              "      <td>500001.000000</td>\n",
              "    </tr>\n",
              "  </tbody>\n",
              "</table>\n",
              "</div>\n",
              "      <button class=\"colab-df-convert\" onclick=\"convertToInteractive('df-63b656ef-329c-402b-a998-74acdc53d2dd')\"\n",
              "              title=\"Convert this dataframe to an interactive table.\"\n",
              "              style=\"display:none;\">\n",
              "        \n",
              "  <svg xmlns=\"http://www.w3.org/2000/svg\" height=\"24px\"viewBox=\"0 0 24 24\"\n",
              "       width=\"24px\">\n",
              "    <path d=\"M0 0h24v24H0V0z\" fill=\"none\"/>\n",
              "    <path d=\"M18.56 5.44l.94 2.06.94-2.06 2.06-.94-2.06-.94-.94-2.06-.94 2.06-2.06.94zm-11 1L8.5 8.5l.94-2.06 2.06-.94-2.06-.94L8.5 2.5l-.94 2.06-2.06.94zm10 10l.94 2.06.94-2.06 2.06-.94-2.06-.94-.94-2.06-.94 2.06-2.06.94z\"/><path d=\"M17.41 7.96l-1.37-1.37c-.4-.4-.92-.59-1.43-.59-.52 0-1.04.2-1.43.59L10.3 9.45l-7.72 7.72c-.78.78-.78 2.05 0 2.83L4 21.41c.39.39.9.59 1.41.59.51 0 1.02-.2 1.41-.59l7.78-7.78 2.81-2.81c.8-.78.8-2.07 0-2.86zM5.41 20L4 18.59l7.72-7.72 1.47 1.35L5.41 20z\"/>\n",
              "  </svg>\n",
              "      </button>\n",
              "      \n",
              "  <style>\n",
              "    .colab-df-container {\n",
              "      display:flex;\n",
              "      flex-wrap:wrap;\n",
              "      gap: 12px;\n",
              "    }\n",
              "\n",
              "    .colab-df-convert {\n",
              "      background-color: #E8F0FE;\n",
              "      border: none;\n",
              "      border-radius: 50%;\n",
              "      cursor: pointer;\n",
              "      display: none;\n",
              "      fill: #1967D2;\n",
              "      height: 32px;\n",
              "      padding: 0 0 0 0;\n",
              "      width: 32px;\n",
              "    }\n",
              "\n",
              "    .colab-df-convert:hover {\n",
              "      background-color: #E2EBFA;\n",
              "      box-shadow: 0px 1px 2px rgba(60, 64, 67, 0.3), 0px 1px 3px 1px rgba(60, 64, 67, 0.15);\n",
              "      fill: #174EA6;\n",
              "    }\n",
              "\n",
              "    [theme=dark] .colab-df-convert {\n",
              "      background-color: #3B4455;\n",
              "      fill: #D2E3FC;\n",
              "    }\n",
              "\n",
              "    [theme=dark] .colab-df-convert:hover {\n",
              "      background-color: #434B5C;\n",
              "      box-shadow: 0px 1px 3px 1px rgba(0, 0, 0, 0.15);\n",
              "      filter: drop-shadow(0px 1px 2px rgba(0, 0, 0, 0.3));\n",
              "      fill: #FFFFFF;\n",
              "    }\n",
              "  </style>\n",
              "\n",
              "      <script>\n",
              "        const buttonEl =\n",
              "          document.querySelector('#df-63b656ef-329c-402b-a998-74acdc53d2dd button.colab-df-convert');\n",
              "        buttonEl.style.display =\n",
              "          google.colab.kernel.accessAllowed ? 'block' : 'none';\n",
              "\n",
              "        async function convertToInteractive(key) {\n",
              "          const element = document.querySelector('#df-63b656ef-329c-402b-a998-74acdc53d2dd');\n",
              "          const dataTable =\n",
              "            await google.colab.kernel.invokeFunction('convertToInteractive',\n",
              "                                                     [key], {});\n",
              "          if (!dataTable) return;\n",
              "\n",
              "          const docLinkHtml = 'Like what you see? Visit the ' +\n",
              "            '<a target=\"_blank\" href=https://colab.research.google.com/notebooks/data_table.ipynb>data table notebook</a>'\n",
              "            + ' to learn more about interactive tables.';\n",
              "          element.innerHTML = '';\n",
              "          dataTable['output_type'] = 'display_data';\n",
              "          await google.colab.output.renderOutput(dataTable, element);\n",
              "          const docLink = document.createElement('div');\n",
              "          docLink.innerHTML = docLinkHtml;\n",
              "          element.appendChild(docLink);\n",
              "        }\n",
              "      </script>\n",
              "    </div>\n",
              "  </div>\n",
              "  "
            ]
          },
          "metadata": {},
          "execution_count": 52
        }
      ]
    },
    {
      "cell_type": "code",
      "source": [
        "data.info()"
      ],
      "metadata": {
        "colab": {
          "base_uri": "https://localhost:8080/"
        },
        "id": "2LSK_kJoc1as",
        "outputId": "472e7fb6-c081-49c3-d124-6202146ccd32"
      },
      "execution_count": 3,
      "outputs": [
        {
          "output_type": "stream",
          "name": "stdout",
          "text": [
            "<class 'pandas.core.frame.DataFrame'>\n",
            "RangeIndex: 20640 entries, 0 to 20639\n",
            "Data columns (total 10 columns):\n",
            " #   Column              Non-Null Count  Dtype  \n",
            "---  ------              --------------  -----  \n",
            " 0   longitude           20640 non-null  float64\n",
            " 1   latitude            20640 non-null  float64\n",
            " 2   housing_median_age  20640 non-null  float64\n",
            " 3   total_rooms         20640 non-null  float64\n",
            " 4   total_bedrooms      20433 non-null  float64\n",
            " 5   population          20640 non-null  float64\n",
            " 6   households          20640 non-null  float64\n",
            " 7   median_income       20640 non-null  float64\n",
            " 8   median_house_value  20640 non-null  float64\n",
            " 9   ocean_proximity     20640 non-null  object \n",
            "dtypes: float64(9), object(1)\n",
            "memory usage: 1.6+ MB\n"
          ]
        }
      ]
    },
    {
      "cell_type": "code",
      "source": [
        "#3. Plot histogram of the variables\n",
        "data.hist(bins = 50, figsize=(20,15))"
      ],
      "metadata": {
        "id": "8TYqYfBTdXT1",
        "colab": {
          "base_uri": "https://localhost:8080/",
          "height": 1000
        },
        "outputId": "5c1bb3ba-c9a4-445d-f2b3-f7dd96e642fc"
      },
      "execution_count": null,
      "outputs": [
        {
          "output_type": "execute_result",
          "data": {
            "text/plain": [
              "array([[<matplotlib.axes._subplots.AxesSubplot object at 0x7fa9ae73de50>,\n",
              "        <matplotlib.axes._subplots.AxesSubplot object at 0x7fa9ae73df90>,\n",
              "        <matplotlib.axes._subplots.AxesSubplot object at 0x7fa9ae6b3ad0>],\n",
              "       [<matplotlib.axes._subplots.AxesSubplot object at 0x7fa9ae6e9fd0>,\n",
              "        <matplotlib.axes._subplots.AxesSubplot object at 0x7fa9ae6ab710>,\n",
              "        <matplotlib.axes._subplots.AxesSubplot object at 0x7fa9ae65bfd0>],\n",
              "       [<matplotlib.axes._subplots.AxesSubplot object at 0x7fa9ae61c710>,\n",
              "        <matplotlib.axes._subplots.AxesSubplot object at 0x7fa9ae5d3d10>,\n",
              "        <matplotlib.axes._subplots.AxesSubplot object at 0x7fa9ae599090>]],\n",
              "      dtype=object)"
            ]
          },
          "metadata": {},
          "execution_count": 54
        },
        {
          "output_type": "display_data",
          "data": {
            "text/plain": [
              "<Figure size 1440x1080 with 9 Axes>"
            ],
            "image/png": "[encoded data removed]"
          },
          "metadata": {
            "needs_background": "light"
          }
        }
      ]
    },
    {
      "cell_type": "code",
      "source": [
        "# 4. Plot scatter plot reecting location of houses versus population and the sales prices.\n",
        "# Any comments?\n",
        "data.plot(kind=\"scatter\", x=\"longitude\", alpha=0.4, y= \"latitude\", s=data[\"population\"]/100, c =\"median_house_value\",\n",
        "          cmap=plt.get_cmap(\"jet\"), colorbar=True)"
      ],
      "metadata": {
        "id": "OPxUSkTZdf7m",
        "colab": {
          "base_uri": "https://localhost:8080/",
          "height": 274
        },
        "outputId": "dd868034-4a09-48ea-e9bd-037350ced244"
      },
      "execution_count": null,
      "outputs": [
        {
          "output_type": "execute_result",
          "data": {
            "text/plain": [
              "<matplotlib.axes._subplots.AxesSubplot at 0x7fa9af0c0b10>"
            ]
          },
          "metadata": {},
          "execution_count": 55
        },
        {
          "output_type": "display_data",
          "data": {
            "text/plain": [
              "<Figure size 432x288 with 2 Axes>"
            ],
            "image/png": "[encoded data removed]"
          },
          "metadata": {
            "needs_background": "light"
          }
        }
      ]
    },
    {
      "cell_type": "code",
      "source": [
        "#5. Calculate the correlation coe\u000ecients of the variables to median house value. Comment on this\n",
        "corr_matrix = data.corr()\n",
        "print(corr_matrix)"
      ],
      "metadata": {
        "id": "KB3fHfKadmJC",
        "colab": {
          "base_uri": "https://localhost:8080/"
        },
        "outputId": "6ccc732e-9150-4c47-ef49-7dea62582fe4"
      },
      "execution_count": null,
      "outputs": [
        {
          "output_type": "stream",
          "name": "stdout",
          "text": [
            "                    longitude  latitude  housing_median_age  total_rooms  \\\n",
            "longitude            1.000000 -0.924664           -0.108197     0.044568   \n",
            "latitude            -0.924664  1.000000            0.011173    -0.036100   \n",
            "housing_median_age  -0.108197  0.011173            1.000000    -0.361262   \n",
            "total_rooms          0.044568 -0.036100           -0.361262     1.000000   \n",
            "total_bedrooms       0.069608 -0.066983           -0.320451     0.930380   \n",
            "population           0.099773 -0.108785           -0.296244     0.857126   \n",
            "households           0.055310 -0.071035           -0.302916     0.918484   \n",
            "median_income       -0.015176 -0.079809           -0.119034     0.198050   \n",
            "median_house_value  -0.045967 -0.144160            0.105623     0.134153   \n",
            "\n",
            "                    total_bedrooms  population  households  median_income  \\\n",
            "longitude                 0.069608    0.099773    0.055310      -0.015176   \n",
            "latitude                 -0.066983   -0.108785   -0.071035      -0.079809   \n",
            "housing_median_age       -0.320451   -0.296244   -0.302916      -0.119034   \n",
            "total_rooms               0.930380    0.857126    0.918484       0.198050   \n",
            "total_bedrooms            1.000000    0.877747    0.979728      -0.007723   \n",
            "population                0.877747    1.000000    0.907222       0.004834   \n",
            "households                0.979728    0.907222    1.000000       0.013033   \n",
            "median_income            -0.007723    0.004834    0.013033       1.000000   \n",
            "median_house_value        0.049686   -0.024650    0.065843       0.688075   \n",
            "\n",
            "                    median_house_value  \n",
            "longitude                    -0.045967  \n",
            "latitude                     -0.144160  \n",
            "housing_median_age            0.105623  \n",
            "total_rooms                   0.134153  \n",
            "total_bedrooms                0.049686  \n",
            "population                   -0.024650  \n",
            "households                    0.065843  \n",
            "median_income                 0.688075  \n",
            "median_house_value            1.000000  \n"
          ]
        }
      ]
    },
    {
      "cell_type": "code",
      "source": [
        "corr_matrix['median_house_value']\n",
        "\n",
        "#median house value is 70% correlated with median_income"
      ],
      "metadata": {
        "colab": {
          "base_uri": "https://localhost:8080/"
        },
        "id": "GDRWJJaKlVvj",
        "outputId": "7b3ade25-fa01-45d7-a622-510f59626cad"
      },
      "execution_count": null,
      "outputs": [
        {
          "output_type": "execute_result",
          "data": {
            "text/plain": [
              "longitude            -0.045967\n",
              "latitude             -0.144160\n",
              "housing_median_age    0.105623\n",
              "total_rooms           0.134153\n",
              "total_bedrooms        0.049686\n",
              "population           -0.024650\n",
              "households            0.065843\n",
              "median_income         0.688075\n",
              "median_house_value    1.000000\n",
              "Name: median_house_value, dtype: float64"
            ]
          },
          "metadata": {},
          "execution_count": 57
        }
      ]
    },
    {
      "cell_type": "code",
      "source": [
        "# 6. Propose an approach to deal with missing values for total bedrooms\n",
        "median_bedrooms= data[\"total_bedrooms\"].median()\n",
        "print(median_bedrooms)\n",
        "\n",
        "data[\"total_bedrooms\"].fillna(median_bedrooms, inplace=True)\n",
        "data.info()\n",
        "\n",
        "#another way is to use Imputer from scikit-learn library"
      ],
      "metadata": {
        "id": "j3Q8hU0hdsas",
        "colab": {
          "base_uri": "https://localhost:8080/"
        },
        "outputId": "59a81314-6a23-4d63-9cac-6f5708c114e1"
      },
      "execution_count": null,
      "outputs": [
        {
          "output_type": "stream",
          "name": "stdout",
          "text": [
            "435.0\n",
            "<class 'pandas.core.frame.DataFrame'>\n",
            "RangeIndex: 20640 entries, 0 to 20639\n",
            "Data columns (total 10 columns):\n",
            " #   Column              Non-Null Count  Dtype  \n",
            "---  ------              --------------  -----  \n",
            " 0   longitude           20640 non-null  float64\n",
            " 1   latitude            20640 non-null  float64\n",
            " 2   housing_median_age  20640 non-null  float64\n",
            " 3   total_rooms         20640 non-null  float64\n",
            " 4   total_bedrooms      20640 non-null  float64\n",
            " 5   population          20640 non-null  float64\n",
            " 6   households          20640 non-null  float64\n",
            " 7   median_income       20640 non-null  float64\n",
            " 8   median_house_value  20640 non-null  float64\n",
            " 9   ocean_proximity     20640 non-null  object \n",
            "dtypes: float64(9), object(1)\n",
            "memory usage: 1.6+ MB\n"
          ]
        }
      ]
    },
    {
      "cell_type": "code",
      "source": [
        "# 7. Creating new variables\n",
        "data[\"rooms_per_household\"] = data[\"total_rooms\"]/data[\"households\"]\n",
        "data[\"bedrooms_per_household\"] = data[\"total_bedrooms\"]/data[\"households\"]\n",
        "data[\"population_per_household\"] = data[\"population\"]/data[\"households\"]"
      ],
      "metadata": {
        "id": "a4nbALOzdskj"
      },
      "execution_count": null,
      "outputs": []
    },
    {
      "cell_type": "code",
      "source": [
        "#8 Create a new binary variable Y such that Y = 1 if median house value> 179,700 and 0 otherwise.\n",
        "# the second argument is the column name Y\n",
        "data.loc[data['median_house_value']>179700, \"Y\"] =1\n",
        "data.loc[data['median_house_value']<=179700, \"Y\"] =0\n",
        "\n",
        "data.info()\n",
        "data.head(10)"
      ],
      "metadata": {
        "id": "IRJ-46Nxd1hZ",
        "colab": {
          "base_uri": "https://localhost:8080/",
          "height": 814
        },
        "outputId": "a7f89eb4-f301-486f-f379-5f76f15df6ff"
      },
      "execution_count": null,
      "outputs": [
        {
          "output_type": "stream",
          "name": "stdout",
          "text": [
            "<class 'pandas.core.frame.DataFrame'>\n",
            "RangeIndex: 20640 entries, 0 to 20639\n",
            "Data columns (total 14 columns):\n",
            " #   Column                    Non-Null Count  Dtype  \n",
            "---  ------                    --------------  -----  \n",
            " 0   longitude                 20640 non-null  float64\n",
            " 1   latitude                  20640 non-null  float64\n",
            " 2   housing_median_age        20640 non-null  float64\n",
            " 3   total_rooms               20640 non-null  float64\n",
            " 4   total_bedrooms            20640 non-null  float64\n",
            " 5   population                20640 non-null  float64\n",
            " 6   households                20640 non-null  float64\n",
            " 7   median_income             20640 non-null  float64\n",
            " 8   median_house_value        20640 non-null  float64\n",
            " 9   ocean_proximity           20640 non-null  object \n",
            " 10  rooms_per_household       20640 non-null  float64\n",
            " 11  bedrooms_per_household    20640 non-null  float64\n",
            " 12  population_per_household  20640 non-null  float64\n",
            " 13  Y                         20640 non-null  float64\n",
            "dtypes: float64(13), object(1)\n",
            "memory usage: 2.2+ MB\n"
          ]
        },
        {
          "output_type": "execute_result",
          "data": {
            "text/plain": [
              "   longitude  latitude  housing_median_age  total_rooms  total_bedrooms  \\\n",
              "0    -122.23     37.88                41.0        880.0           129.0   \n",
              "1    -122.22     37.86                21.0       7099.0          1106.0   \n",
              "2    -122.24     37.85                52.0       1467.0           190.0   \n",
              "3    -122.25     37.85                52.0       1274.0           235.0   \n",
              "4    -122.25     37.85                52.0       1627.0           280.0   \n",
              "5    -122.25     37.85                52.0        919.0           213.0   \n",
              "6    -122.25     37.84                52.0       2535.0           489.0   \n",
              "7    -122.25     37.84                52.0       3104.0           687.0   \n",
              "8    -122.26     37.84                42.0       2555.0           665.0   \n",
              "9    -122.25     37.84                52.0       3549.0           707.0   \n",
              "\n",
              "   population  households  median_income  median_house_value ocean_proximity  \\\n",
              "0       322.0       126.0         8.3252            452600.0        NEAR BAY   \n",
              "1      2401.0      1138.0         8.3014            358500.0        NEAR BAY   \n",
              "2       496.0       177.0         7.2574            352100.0        NEAR BAY   \n",
              "3       558.0       219.0         5.6431            341300.0        NEAR BAY   \n",
              "4       565.0       259.0         3.8462            342200.0        NEAR BAY   \n",
              "5       413.0       193.0         4.0368            269700.0        NEAR BAY   \n",
              "6      1094.0       514.0         3.6591            299200.0        NEAR BAY   \n",
              "7      1157.0       647.0         3.1200            241400.0        NEAR BAY   \n",
              "8      1206.0       595.0         2.0804            226700.0        NEAR BAY   \n",
              "9      1551.0       714.0         3.6912            261100.0        NEAR BAY   \n",
              "\n",
              "   rooms_per_household  bedrooms_per_household  population_per_household    Y  \n",
              "0             6.984127                1.023810                  2.555556  1.0  \n",
              "1             6.238137                0.971880                  2.109842  1.0  \n",
              "2             8.288136                1.073446                  2.802260  1.0  \n",
              "3             5.817352                1.073059                  2.547945  1.0  \n",
              "4             6.281853                1.081081                  2.181467  1.0  \n",
              "5             4.761658                1.103627                  2.139896  1.0  \n",
              "6             4.931907                0.951362                  2.128405  1.0  \n",
              "7             4.797527                1.061824                  1.788253  1.0  \n",
              "8             4.294118                1.117647                  2.026891  1.0  \n",
              "9             4.970588                0.990196                  2.172269  1.0  "
            ],
            "text/html": [
              "\n",
              "  <div id=\"df-34c675fb-89a8-4dcd-870c-a86ffa7a09aa\">\n",
              "    <div class=\"colab-df-container\">\n",
              "      <div>\n",
              "<style scoped>\n",
              "    .dataframe tbody tr th:only-of-type {\n",
              "        vertical-align: middle;\n",
              "    }\n",
              "\n",
              "    .dataframe tbody tr th {\n",
              "        vertical-align: top;\n",
              "    }\n",
              "\n",
              "    .dataframe thead th {\n",
              "        text-align: right;\n",
              "    }\n",
              "</style>\n",
              "<table border=\"1\" class=\"dataframe\">\n",
              "  <thead>\n",
              "    <tr style=\"text-align: right;\">\n",
              "      <th></th>\n",
              "      <th>longitude</th>\n",
              "      <th>latitude</th>\n",
              "      <th>housing_median_age</th>\n",
              "      <th>total_rooms</th>\n",
              "      <th>total_bedrooms</th>\n",
              "      <th>population</th>\n",
              "      <th>households</th>\n",
              "      <th>median_income</th>\n",
              "      <th>median_house_value</th>\n",
              "      <th>ocean_proximity</th>\n",
              "      <th>rooms_per_household</th>\n",
              "      <th>bedrooms_per_household</th>\n",
              "      <th>population_per_household</th>\n",
              "      <th>Y</th>\n",
              "    </tr>\n",
              "  </thead>\n",
              "  <tbody>\n",
              "    <tr>\n",
              "      <th>0</th>\n",
              "      <td>-122.23</td>\n",
              "      <td>37.88</td>\n",
              "      <td>41.0</td>\n",
              "      <td>880.0</td>\n",
              "      <td>129.0</td>\n",
              "      <td>322.0</td>\n",
              "      <td>126.0</td>\n",
              "      <td>8.3252</td>\n",
              "      <td>452600.0</td>\n",
              "      <td>NEAR BAY</td>\n",
              "      <td>6.984127</td>\n",
              "      <td>1.023810</td>\n",
              "      <td>2.555556</td>\n",
              "      <td>1.0</td>\n",
              "    </tr>\n",
              "    <tr>\n",
              "      <th>1</th>\n",
              "      <td>-122.22</td>\n",
              "      <td>37.86</td>\n",
              "      <td>21.0</td>\n",
              "      <td>7099.0</td>\n",
              "      <td>1106.0</td>\n",
              "      <td>2401.0</td>\n",
              "      <td>1138.0</td>\n",
              "      <td>8.3014</td>\n",
              "      <td>358500.0</td>\n",
              "      <td>NEAR BAY</td>\n",
              "      <td>6.238137</td>\n",
              "      <td>0.971880</td>\n",
              "      <td>2.109842</td>\n",
              "      <td>1.0</td>\n",
              "    </tr>\n",
              "    <tr>\n",
              "      <th>2</th>\n",
              "      <td>-122.24</td>\n",
              "      <td>37.85</td>\n",
              "      <td>52.0</td>\n",
              "      <td>1467.0</td>\n",
              "      <td>190.0</td>\n",
              "      <td>496.0</td>\n",
              "      <td>177.0</td>\n",
              "      <td>7.2574</td>\n",
              "      <td>352100.0</td>\n",
              "      <td>NEAR BAY</td>\n",
              "      <td>8.288136</td>\n",
              "      <td>1.073446</td>\n",
              "      <td>2.802260</td>\n",
              "      <td>1.0</td>\n",
              "    </tr>\n",
              "    <tr>\n",
              "      <th>3</th>\n",
              "      <td>-122.25</td>\n",
              "      <td>37.85</td>\n",
              "      <td>52.0</td>\n",
              "      <td>1274.0</td>\n",
              "      <td>235.0</td>\n",
              "      <td>558.0</td>\n",
              "      <td>219.0</td>\n",
              "      <td>5.6431</td>\n",
              "      <td>341300.0</td>\n",
              "      <td>NEAR BAY</td>\n",
              "      <td>5.817352</td>\n",
              "      <td>1.073059</td>\n",
              "      <td>2.547945</td>\n",
              "      <td>1.0</td>\n",
              "    </tr>\n",
              "    <tr>\n",
              "      <th>4</th>\n",
              "      <td>-122.25</td>\n",
              "      <td>37.85</td>\n",
              "      <td>52.0</td>\n",
              "      <td>1627.0</td>\n",
              "      <td>280.0</td>\n",
              "      <td>565.0</td>\n",
              "      <td>259.0</td>\n",
              "      <td>3.8462</td>\n",
              "      <td>342200.0</td>\n",
              "      <td>NEAR BAY</td>\n",
              "      <td>6.281853</td>\n",
              "      <td>1.081081</td>\n",
              "      <td>2.181467</td>\n",
              "      <td>1.0</td>\n",
              "    </tr>\n",
              "    <tr>\n",
              "      <th>5</th>\n",
              "      <td>-122.25</td>\n",
              "      <td>37.85</td>\n",
              "      <td>52.0</td>\n",
              "      <td>919.0</td>\n",
              "      <td>213.0</td>\n",
              "      <td>413.0</td>\n",
              "      <td>193.0</td>\n",
              "      <td>4.0368</td>\n",
              "      <td>269700.0</td>\n",
              "      <td>NEAR BAY</td>\n",
              "      <td>4.761658</td>\n",
              "      <td>1.103627</td>\n",
              "      <td>2.139896</td>\n",
              "      <td>1.0</td>\n",
              "    </tr>\n",
              "    <tr>\n",
              "      <th>6</th>\n",
              "      <td>-122.25</td>\n",
              "      <td>37.84</td>\n",
              "      <td>52.0</td>\n",
              "      <td>2535.0</td>\n",
              "      <td>489.0</td>\n",
              "      <td>1094.0</td>\n",
              "      <td>514.0</td>\n",
              "      <td>3.6591</td>\n",
              "      <td>299200.0</td>\n",
              "      <td>NEAR BAY</td>\n",
              "      <td>4.931907</td>\n",
              "      <td>0.951362</td>\n",
              "      <td>2.128405</td>\n",
              "      <td>1.0</td>\n",
              "    </tr>\n",
              "    <tr>\n",
              "      <th>7</th>\n",
              "      <td>-122.25</td>\n",
              "      <td>37.84</td>\n",
              "      <td>52.0</td>\n",
              "      <td>3104.0</td>\n",
              "      <td>687.0</td>\n",
              "      <td>1157.0</td>\n",
              "      <td>647.0</td>\n",
              "      <td>3.1200</td>\n",
              "      <td>241400.0</td>\n",
              "      <td>NEAR BAY</td>\n",
              "      <td>4.797527</td>\n",
              "      <td>1.061824</td>\n",
              "      <td>1.788253</td>\n",
              "      <td>1.0</td>\n",
              "    </tr>\n",
              "    <tr>\n",
              "      <th>8</th>\n",
              "      <td>-122.26</td>\n",
              "      <td>37.84</td>\n",
              "      <td>42.0</td>\n",
              "      <td>2555.0</td>\n",
              "      <td>665.0</td>\n",
              "      <td>1206.0</td>\n",
              "      <td>595.0</td>\n",
              "      <td>2.0804</td>\n",
              "      <td>226700.0</td>\n",
              "      <td>NEAR BAY</td>\n",
              "      <td>4.294118</td>\n",
              "      <td>1.117647</td>\n",
              "      <td>2.026891</td>\n",
              "      <td>1.0</td>\n",
              "    </tr>\n",
              "    <tr>\n",
              "      <th>9</th>\n",
              "      <td>-122.25</td>\n",
              "      <td>37.84</td>\n",
              "      <td>52.0</td>\n",
              "      <td>3549.0</td>\n",
              "      <td>707.0</td>\n",
              "      <td>1551.0</td>\n",
              "      <td>714.0</td>\n",
              "      <td>3.6912</td>\n",
              "      <td>261100.0</td>\n",
              "      <td>NEAR BAY</td>\n",
              "      <td>4.970588</td>\n",
              "      <td>0.990196</td>\n",
              "      <td>2.172269</td>\n",
              "      <td>1.0</td>\n",
              "    </tr>\n",
              "  </tbody>\n",
              "</table>\n",
              "</div>\n",
              "      <button class=\"colab-df-convert\" onclick=\"convertToInteractive('df-34c675fb-89a8-4dcd-870c-a86ffa7a09aa')\"\n",
              "              title=\"Convert this dataframe to an interactive table.\"\n",
              "              style=\"display:none;\">\n",
              "        \n",
              "  <svg xmlns=\"http://www.w3.org/2000/svg\" height=\"24px\"viewBox=\"0 0 24 24\"\n",
              "       width=\"24px\">\n",
              "    <path d=\"M0 0h24v24H0V0z\" fill=\"none\"/>\n",
              "    <path d=\"M18.56 5.44l.94 2.06.94-2.06 2.06-.94-2.06-.94-.94-2.06-.94 2.06-2.06.94zm-11 1L8.5 8.5l.94-2.06 2.06-.94-2.06-.94L8.5 2.5l-.94 2.06-2.06.94zm10 10l.94 2.06.94-2.06 2.06-.94-2.06-.94-.94-2.06-.94 2.06-2.06.94z\"/><path d=\"M17.41 7.96l-1.37-1.37c-.4-.4-.92-.59-1.43-.59-.52 0-1.04.2-1.43.59L10.3 9.45l-7.72 7.72c-.78.78-.78 2.05 0 2.83L4 21.41c.39.39.9.59 1.41.59.51 0 1.02-.2 1.41-.59l7.78-7.78 2.81-2.81c.8-.78.8-2.07 0-2.86zM5.41 20L4 18.59l7.72-7.72 1.47 1.35L5.41 20z\"/>\n",
              "  </svg>\n",
              "      </button>\n",
              "      \n",
              "  <style>\n",
              "    .colab-df-container {\n",
              "      display:flex;\n",
              "      flex-wrap:wrap;\n",
              "      gap: 12px;\n",
              "    }\n",
              "\n",
              "    .colab-df-convert {\n",
              "      background-color: #E8F0FE;\n",
              "      border: none;\n",
              "      border-radius: 50%;\n",
              "      cursor: pointer;\n",
              "      display: none;\n",
              "      fill: #1967D2;\n",
              "      height: 32px;\n",
              "      padding: 0 0 0 0;\n",
              "      width: 32px;\n",
              "    }\n",
              "\n",
              "    .colab-df-convert:hover {\n",
              "      background-color: #E2EBFA;\n",
              "      box-shadow: 0px 1px 2px rgba(60, 64, 67, 0.3), 0px 1px 3px 1px rgba(60, 64, 67, 0.15);\n",
              "      fill: #174EA6;\n",
              "    }\n",
              "\n",
              "    [theme=dark] .colab-df-convert {\n",
              "      background-color: #3B4455;\n",
              "      fill: #D2E3FC;\n",
              "    }\n",
              "\n",
              "    [theme=dark] .colab-df-convert:hover {\n",
              "      background-color: #434B5C;\n",
              "      box-shadow: 0px 1px 3px 1px rgba(0, 0, 0, 0.15);\n",
              "      filter: drop-shadow(0px 1px 2px rgba(0, 0, 0, 0.3));\n",
              "      fill: #FFFFFF;\n",
              "    }\n",
              "  </style>\n",
              "\n",
              "      <script>\n",
              "        const buttonEl =\n",
              "          document.querySelector('#df-34c675fb-89a8-4dcd-870c-a86ffa7a09aa button.colab-df-convert');\n",
              "        buttonEl.style.display =\n",
              "          google.colab.kernel.accessAllowed ? 'block' : 'none';\n",
              "\n",
              "        async function convertToInteractive(key) {\n",
              "          const element = document.querySelector('#df-34c675fb-89a8-4dcd-870c-a86ffa7a09aa');\n",
              "          const dataTable =\n",
              "            await google.colab.kernel.invokeFunction('convertToInteractive',\n",
              "                                                     [key], {});\n",
              "          if (!dataTable) return;\n",
              "\n",
              "          const docLinkHtml = 'Like what you see? Visit the ' +\n",
              "            '<a target=\"_blank\" href=https://colab.research.google.com/notebooks/data_table.ipynb>data table notebook</a>'\n",
              "            + ' to learn more about interactive tables.';\n",
              "          element.innerHTML = '';\n",
              "          dataTable['output_type'] = 'display_data';\n",
              "          await google.colab.output.renderOutput(dataTable, element);\n",
              "          const docLink = document.createElement('div');\n",
              "          docLink.innerHTML = docLinkHtml;\n",
              "          element.appendChild(docLink);\n",
              "        }\n",
              "      </script>\n",
              "    </div>\n",
              "  </div>\n",
              "  "
            ]
          },
          "metadata": {},
          "execution_count": 60
        }
      ]
    },
    {
      "cell_type": "markdown",
      "source": [
        "# Linear Regression\n",
        "\n",
        "Only consider the following explanatory variables for OLS analysis:\n",
        "room per household, bedrooms per household,population per household,medianIncome,\n",
        "housingMedianAge."
      ],
      "metadata": {
        "id": "wJcTf7WkeFf5"
      }
    },
    {
      "cell_type": "code",
      "source": [
        "# get certain columns\n",
        "housing_ols = data.iloc[:,[2,7,10,11,12,8]]\n",
        "\n",
        "housing_ols_des = housing_ols.describe()\n",
        "housing_ols_des"
      ],
      "metadata": {
        "id": "9aNldp-nedB8",
        "colab": {
          "base_uri": "https://localhost:8080/",
          "height": 300
        },
        "outputId": "1f667322-1549-4908-e0d2-8e07a6363107"
      },
      "execution_count": null,
      "outputs": [
        {
          "output_type": "execute_result",
          "data": {
            "text/plain": [
              "       housing_median_age  median_income  rooms_per_household  \\\n",
              "count        20640.000000   20640.000000         20640.000000   \n",
              "mean            28.639486       3.870671             5.429000   \n",
              "std             12.585558       1.899822             2.474173   \n",
              "min              1.000000       0.499900             0.846154   \n",
              "25%             18.000000       2.563400             4.440716   \n",
              "50%             29.000000       3.534800             5.229129   \n",
              "75%             37.000000       4.743250             6.052381   \n",
              "max             52.000000      15.000100           141.909091   \n",
              "\n",
              "       bedrooms_per_household  population_per_household  median_house_value  \n",
              "count            20640.000000              20640.000000        20640.000000  \n",
              "mean                 1.100910                  3.070655       206855.816909  \n",
              "std                  0.519159                 10.386050       115395.615874  \n",
              "min                  0.121204                  0.692308        14999.000000  \n",
              "25%                  1.005525                  2.429741       119600.000000  \n",
              "50%                  1.048860                  2.818116       179700.000000  \n",
              "75%                  1.100015                  3.282261       264725.000000  \n",
              "max                 34.066667               1243.333333       500001.000000  "
            ],
            "text/html": [
              "\n",
              "  <div id=\"df-dce9d88e-4abf-457b-a50d-6e3d2d55f031\">\n",
              "    <div class=\"colab-df-container\">\n",
              "      <div>\n",
              "<style scoped>\n",
              "    .dataframe tbody tr th:only-of-type {\n",
              "        vertical-align: middle;\n",
              "    }\n",
              "\n",
              "    .dataframe tbody tr th {\n",
              "        vertical-align: top;\n",
              "    }\n",
              "\n",
              "    .dataframe thead th {\n",
              "        text-align: right;\n",
              "    }\n",
              "</style>\n",
              "<table border=\"1\" class=\"dataframe\">\n",
              "  <thead>\n",
              "    <tr style=\"text-align: right;\">\n",
              "      <th></th>\n",
              "      <th>housing_median_age</th>\n",
              "      <th>median_income</th>\n",
              "      <th>rooms_per_household</th>\n",
              "      <th>bedrooms_per_household</th>\n",
              "      <th>population_per_household</th>\n",
              "      <th>median_house_value</th>\n",
              "    </tr>\n",
              "  </thead>\n",
              "  <tbody>\n",
              "    <tr>\n",
              "      <th>count</th>\n",
              "      <td>20640.000000</td>\n",
              "      <td>20640.000000</td>\n",
              "      <td>20640.000000</td>\n",
              "      <td>20640.000000</td>\n",
              "      <td>20640.000000</td>\n",
              "      <td>20640.000000</td>\n",
              "    </tr>\n",
              "    <tr>\n",
              "      <th>mean</th>\n",
              "      <td>28.639486</td>\n",
              "      <td>3.870671</td>\n",
              "      <td>5.429000</td>\n",
              "      <td>1.100910</td>\n",
              "      <td>3.070655</td>\n",
              "      <td>206855.816909</td>\n",
              "    </tr>\n",
              "    <tr>\n",
              "      <th>std</th>\n",
              "      <td>12.585558</td>\n",
              "      <td>1.899822</td>\n",
              "      <td>2.474173</td>\n",
              "      <td>0.519159</td>\n",
              "      <td>10.386050</td>\n",
              "      <td>115395.615874</td>\n",
              "    </tr>\n",
              "    <tr>\n",
              "      <th>min</th>\n",
              "      <td>1.000000</td>\n",
              "      <td>0.499900</td>\n",
              "      <td>0.846154</td>\n",
              "      <td>0.121204</td>\n",
              "      <td>0.692308</td>\n",
              "      <td>14999.000000</td>\n",
              "    </tr>\n",
              "    <tr>\n",
              "      <th>25%</th>\n",
              "      <td>18.000000</td>\n",
              "      <td>2.563400</td>\n",
              "      <td>4.440716</td>\n",
              "      <td>1.005525</td>\n",
              "      <td>2.429741</td>\n",
              "      <td>119600.000000</td>\n",
              "    </tr>\n",
              "    <tr>\n",
              "      <th>50%</th>\n",
              "      <td>29.000000</td>\n",
              "      <td>3.534800</td>\n",
              "      <td>5.229129</td>\n",
              "      <td>1.048860</td>\n",
              "      <td>2.818116</td>\n",
              "      <td>179700.000000</td>\n",
              "    </tr>\n",
              "    <tr>\n",
              "      <th>75%</th>\n",
              "      <td>37.000000</td>\n",
              "      <td>4.743250</td>\n",
              "      <td>6.052381</td>\n",
              "      <td>1.100015</td>\n",
              "      <td>3.282261</td>\n",
              "      <td>264725.000000</td>\n",
              "    </tr>\n",
              "    <tr>\n",
              "      <th>max</th>\n",
              "      <td>52.000000</td>\n",
              "      <td>15.000100</td>\n",
              "      <td>141.909091</td>\n",
              "      <td>34.066667</td>\n",
              "      <td>1243.333333</td>\n",
              "      <td>500001.000000</td>\n",
              "    </tr>\n",
              "  </tbody>\n",
              "</table>\n",
              "</div>\n",
              "      <button class=\"colab-df-convert\" onclick=\"convertToInteractive('df-dce9d88e-4abf-457b-a50d-6e3d2d55f031')\"\n",
              "              title=\"Convert this dataframe to an interactive table.\"\n",
              "              style=\"display:none;\">\n",
              "        \n",
              "  <svg xmlns=\"http://www.w3.org/2000/svg\" height=\"24px\"viewBox=\"0 0 24 24\"\n",
              "       width=\"24px\">\n",
              "    <path d=\"M0 0h24v24H0V0z\" fill=\"none\"/>\n",
              "    <path d=\"M18.56 5.44l.94 2.06.94-2.06 2.06-.94-2.06-.94-.94-2.06-.94 2.06-2.06.94zm-11 1L8.5 8.5l.94-2.06 2.06-.94-2.06-.94L8.5 2.5l-.94 2.06-2.06.94zm10 10l.94 2.06.94-2.06 2.06-.94-2.06-.94-.94-2.06-.94 2.06-2.06.94z\"/><path d=\"M17.41 7.96l-1.37-1.37c-.4-.4-.92-.59-1.43-.59-.52 0-1.04.2-1.43.59L10.3 9.45l-7.72 7.72c-.78.78-.78 2.05 0 2.83L4 21.41c.39.39.9.59 1.41.59.51 0 1.02-.2 1.41-.59l7.78-7.78 2.81-2.81c.8-.78.8-2.07 0-2.86zM5.41 20L4 18.59l7.72-7.72 1.47 1.35L5.41 20z\"/>\n",
              "  </svg>\n",
              "      </button>\n",
              "      \n",
              "  <style>\n",
              "    .colab-df-container {\n",
              "      display:flex;\n",
              "      flex-wrap:wrap;\n",
              "      gap: 12px;\n",
              "    }\n",
              "\n",
              "    .colab-df-convert {\n",
              "      background-color: #E8F0FE;\n",
              "      border: none;\n",
              "      border-radius: 50%;\n",
              "      cursor: pointer;\n",
              "      display: none;\n",
              "      fill: #1967D2;\n",
              "      height: 32px;\n",
              "      padding: 0 0 0 0;\n",
              "      width: 32px;\n",
              "    }\n",
              "\n",
              "    .colab-df-convert:hover {\n",
              "      background-color: #E2EBFA;\n",
              "      box-shadow: 0px 1px 2px rgba(60, 64, 67, 0.3), 0px 1px 3px 1px rgba(60, 64, 67, 0.15);\n",
              "      fill: #174EA6;\n",
              "    }\n",
              "\n",
              "    [theme=dark] .colab-df-convert {\n",
              "      background-color: #3B4455;\n",
              "      fill: #D2E3FC;\n",
              "    }\n",
              "\n",
              "    [theme=dark] .colab-df-convert:hover {\n",
              "      background-color: #434B5C;\n",
              "      box-shadow: 0px 1px 3px 1px rgba(0, 0, 0, 0.15);\n",
              "      filter: drop-shadow(0px 1px 2px rgba(0, 0, 0, 0.3));\n",
              "      fill: #FFFFFF;\n",
              "    }\n",
              "  </style>\n",
              "\n",
              "      <script>\n",
              "        const buttonEl =\n",
              "          document.querySelector('#df-dce9d88e-4abf-457b-a50d-6e3d2d55f031 button.colab-df-convert');\n",
              "        buttonEl.style.display =\n",
              "          google.colab.kernel.accessAllowed ? 'block' : 'none';\n",
              "\n",
              "        async function convertToInteractive(key) {\n",
              "          const element = document.querySelector('#df-dce9d88e-4abf-457b-a50d-6e3d2d55f031');\n",
              "          const dataTable =\n",
              "            await google.colab.kernel.invokeFunction('convertToInteractive',\n",
              "                                                     [key], {});\n",
              "          if (!dataTable) return;\n",
              "\n",
              "          const docLinkHtml = 'Like what you see? Visit the ' +\n",
              "            '<a target=\"_blank\" href=https://colab.research.google.com/notebooks/data_table.ipynb>data table notebook</a>'\n",
              "            + ' to learn more about interactive tables.';\n",
              "          element.innerHTML = '';\n",
              "          dataTable['output_type'] = 'display_data';\n",
              "          await google.colab.output.renderOutput(dataTable, element);\n",
              "          const docLink = document.createElement('div');\n",
              "          docLink.innerHTML = docLinkHtml;\n",
              "          element.appendChild(docLink);\n",
              "        }\n",
              "      </script>\n",
              "    </div>\n",
              "  </div>\n",
              "  "
            ]
          },
          "metadata": {},
          "execution_count": 61
        }
      ]
    },
    {
      "cell_type": "code",
      "source": [
        "# filter out the data as required\n",
        "housing_ols = housing_ols[(housing_ols['rooms_per_household']<10) &\n",
        "                          (housing_ols['population_per_household']<10)&\n",
        "                          (housing_ols['bedrooms_per_household']<5)]\n",
        "housing_ols_des = housing_ols.describe()\n",
        "housing_ols_des"
      ],
      "metadata": {
        "colab": {
          "base_uri": "https://localhost:8080/",
          "height": 300
        },
        "id": "IEP3lkLdtXxz",
        "outputId": "08eed3d7-2d0c-453d-bb53-27b9983fbf4d"
      },
      "execution_count": null,
      "outputs": [
        {
          "output_type": "execute_result",
          "data": {
            "text/plain": [
              "       housing_median_age  median_income  rooms_per_household  \\\n",
              "count        20374.000000   20374.000000         20374.000000   \n",
              "mean            28.752184       3.867201             5.275247   \n",
              "std             12.558358       1.888422             1.225322   \n",
              "min              1.000000       0.499900             0.846154   \n",
              "25%             18.000000       2.562500             4.432560   \n",
              "50%             29.000000       3.534100             5.213934   \n",
              "75%             37.000000       4.743550             6.015022   \n",
              "max             52.000000      15.000100             9.979167   \n",
              "\n",
              "       bedrooms_per_household  population_per_household  median_house_value  \n",
              "count            20374.000000              20374.000000        20374.000000  \n",
              "mean                 1.068436                  2.922885       207129.804898  \n",
              "std                  0.158834                  0.766405       115328.997859  \n",
              "min                  0.121204                  0.750000        14999.000000  \n",
              "25%                  1.004929                  2.433119       119800.000000  \n",
              "50%                  1.047880                  2.822827       180400.000000  \n",
              "75%                  1.097710                  3.283472       265300.000000  \n",
              "max                  4.887640                  9.954545       500001.000000  "
            ],
            "text/html": [
              "\n",
              "  <div id=\"df-4fdd3384-6236-4a51-8bc9-85aac29e5567\">\n",
              "    <div class=\"colab-df-container\">\n",
              "      <div>\n",
              "<style scoped>\n",
              "    .dataframe tbody tr th:only-of-type {\n",
              "        vertical-align: middle;\n",
              "    }\n",
              "\n",
              "    .dataframe tbody tr th {\n",
              "        vertical-align: top;\n",
              "    }\n",
              "\n",
              "    .dataframe thead th {\n",
              "        text-align: right;\n",
              "    }\n",
              "</style>\n",
              "<table border=\"1\" class=\"dataframe\">\n",
              "  <thead>\n",
              "    <tr style=\"text-align: right;\">\n",
              "      <th></th>\n",
              "      <th>housing_median_age</th>\n",
              "      <th>median_income</th>\n",
              "      <th>rooms_per_household</th>\n",
              "      <th>bedrooms_per_household</th>\n",
              "      <th>population_per_household</th>\n",
              "      <th>median_house_value</th>\n",
              "    </tr>\n",
              "  </thead>\n",
              "  <tbody>\n",
              "    <tr>\n",
              "      <th>count</th>\n",
              "      <td>20374.000000</td>\n",
              "      <td>20374.000000</td>\n",
              "      <td>20374.000000</td>\n",
              "      <td>20374.000000</td>\n",
              "      <td>20374.000000</td>\n",
              "      <td>20374.000000</td>\n",
              "    </tr>\n",
              "    <tr>\n",
              "      <th>mean</th>\n",
              "      <td>28.752184</td>\n",
              "      <td>3.867201</td>\n",
              "      <td>5.275247</td>\n",
              "      <td>1.068436</td>\n",
              "      <td>2.922885</td>\n",
              "      <td>207129.804898</td>\n",
              "    </tr>\n",
              "    <tr>\n",
              "      <th>std</th>\n",
              "      <td>12.558358</td>\n",
              "      <td>1.888422</td>\n",
              "      <td>1.225322</td>\n",
              "      <td>0.158834</td>\n",
              "      <td>0.766405</td>\n",
              "      <td>115328.997859</td>\n",
              "    </tr>\n",
              "    <tr>\n",
              "      <th>min</th>\n",
              "      <td>1.000000</td>\n",
              "      <td>0.499900</td>\n",
              "      <td>0.846154</td>\n",
              "      <td>0.121204</td>\n",
              "      <td>0.750000</td>\n",
              "      <td>14999.000000</td>\n",
              "    </tr>\n",
              "    <tr>\n",
              "      <th>25%</th>\n",
              "      <td>18.000000</td>\n",
              "      <td>2.562500</td>\n",
              "      <td>4.432560</td>\n",
              "      <td>1.004929</td>\n",
              "      <td>2.433119</td>\n",
              "      <td>119800.000000</td>\n",
              "    </tr>\n",
              "    <tr>\n",
              "      <th>50%</th>\n",
              "      <td>29.000000</td>\n",
              "      <td>3.534100</td>\n",
              "      <td>5.213934</td>\n",
              "      <td>1.047880</td>\n",
              "      <td>2.822827</td>\n",
              "      <td>180400.000000</td>\n",
              "    </tr>\n",
              "    <tr>\n",
              "      <th>75%</th>\n",
              "      <td>37.000000</td>\n",
              "      <td>4.743550</td>\n",
              "      <td>6.015022</td>\n",
              "      <td>1.097710</td>\n",
              "      <td>3.283472</td>\n",
              "      <td>265300.000000</td>\n",
              "    </tr>\n",
              "    <tr>\n",
              "      <th>max</th>\n",
              "      <td>52.000000</td>\n",
              "      <td>15.000100</td>\n",
              "      <td>9.979167</td>\n",
              "      <td>4.887640</td>\n",
              "      <td>9.954545</td>\n",
              "      <td>500001.000000</td>\n",
              "    </tr>\n",
              "  </tbody>\n",
              "</table>\n",
              "</div>\n",
              "      <button class=\"colab-df-convert\" onclick=\"convertToInteractive('df-4fdd3384-6236-4a51-8bc9-85aac29e5567')\"\n",
              "              title=\"Convert this dataframe to an interactive table.\"\n",
              "              style=\"display:none;\">\n",
              "        \n",
              "  <svg xmlns=\"http://www.w3.org/2000/svg\" height=\"24px\"viewBox=\"0 0 24 24\"\n",
              "       width=\"24px\">\n",
              "    <path d=\"M0 0h24v24H0V0z\" fill=\"none\"/>\n",
              "    <path d=\"M18.56 5.44l.94 2.06.94-2.06 2.06-.94-2.06-.94-.94-2.06-.94 2.06-2.06.94zm-11 1L8.5 8.5l.94-2.06 2.06-.94-2.06-.94L8.5 2.5l-.94 2.06-2.06.94zm10 10l.94 2.06.94-2.06 2.06-.94-2.06-.94-.94-2.06-.94 2.06-2.06.94z\"/><path d=\"M17.41 7.96l-1.37-1.37c-.4-.4-.92-.59-1.43-.59-.52 0-1.04.2-1.43.59L10.3 9.45l-7.72 7.72c-.78.78-.78 2.05 0 2.83L4 21.41c.39.39.9.59 1.41.59.51 0 1.02-.2 1.41-.59l7.78-7.78 2.81-2.81c.8-.78.8-2.07 0-2.86zM5.41 20L4 18.59l7.72-7.72 1.47 1.35L5.41 20z\"/>\n",
              "  </svg>\n",
              "      </button>\n",
              "      \n",
              "  <style>\n",
              "    .colab-df-container {\n",
              "      display:flex;\n",
              "      flex-wrap:wrap;\n",
              "      gap: 12px;\n",
              "    }\n",
              "\n",
              "    .colab-df-convert {\n",
              "      background-color: #E8F0FE;\n",
              "      border: none;\n",
              "      border-radius: 50%;\n",
              "      cursor: pointer;\n",
              "      display: none;\n",
              "      fill: #1967D2;\n",
              "      height: 32px;\n",
              "      padding: 0 0 0 0;\n",
              "      width: 32px;\n",
              "    }\n",
              "\n",
              "    .colab-df-convert:hover {\n",
              "      background-color: #E2EBFA;\n",
              "      box-shadow: 0px 1px 2px rgba(60, 64, 67, 0.3), 0px 1px 3px 1px rgba(60, 64, 67, 0.15);\n",
              "      fill: #174EA6;\n",
              "    }\n",
              "\n",
              "    [theme=dark] .colab-df-convert {\n",
              "      background-color: #3B4455;\n",
              "      fill: #D2E3FC;\n",
              "    }\n",
              "\n",
              "    [theme=dark] .colab-df-convert:hover {\n",
              "      background-color: #434B5C;\n",
              "      box-shadow: 0px 1px 3px 1px rgba(0, 0, 0, 0.15);\n",
              "      filter: drop-shadow(0px 1px 2px rgba(0, 0, 0, 0.3));\n",
              "      fill: #FFFFFF;\n",
              "    }\n",
              "  </style>\n",
              "\n",
              "      <script>\n",
              "        const buttonEl =\n",
              "          document.querySelector('#df-4fdd3384-6236-4a51-8bc9-85aac29e5567 button.colab-df-convert');\n",
              "        buttonEl.style.display =\n",
              "          google.colab.kernel.accessAllowed ? 'block' : 'none';\n",
              "\n",
              "        async function convertToInteractive(key) {\n",
              "          const element = document.querySelector('#df-4fdd3384-6236-4a51-8bc9-85aac29e5567');\n",
              "          const dataTable =\n",
              "            await google.colab.kernel.invokeFunction('convertToInteractive',\n",
              "                                                     [key], {});\n",
              "          if (!dataTable) return;\n",
              "\n",
              "          const docLinkHtml = 'Like what you see? Visit the ' +\n",
              "            '<a target=\"_blank\" href=https://colab.research.google.com/notebooks/data_table.ipynb>data table notebook</a>'\n",
              "            + ' to learn more about interactive tables.';\n",
              "          element.innerHTML = '';\n",
              "          dataTable['output_type'] = 'display_data';\n",
              "          await google.colab.output.renderOutput(dataTable, element);\n",
              "          const docLink = document.createElement('div');\n",
              "          docLink.innerHTML = docLinkHtml;\n",
              "          element.appendChild(docLink);\n",
              "        }\n",
              "      </script>\n",
              "    </div>\n",
              "  </div>\n",
              "  "
            ]
          },
          "metadata": {},
          "execution_count": 62
        }
      ]
    },
    {
      "cell_type": "code",
      "source": [
        "from sklearn.model_selection import train_test_split\n",
        "import random\n",
        "from sklearn.linear_model import LinearRegression\n",
        "import numpy as np\n",
        "random.seed(10)"
      ],
      "metadata": {
        "id": "T46EnTg6edq8"
      },
      "execution_count": null,
      "outputs": []
    },
    {
      "cell_type": "code",
      "source": [
        "#split the training set to be 70% and test set to be 30%\n",
        "train_set, test_set = train_test_split(housing_ols, test_size=0.3, random_state=12)\n",
        "train_set.shape,test_set.shape\n"
      ],
      "metadata": {
        "id": "YCQbjPn9ep8L",
        "colab": {
          "base_uri": "https://localhost:8080/"
        },
        "outputId": "c6f82507-e83f-4a8b-ab6a-c52d8d2e5cbf"
      },
      "execution_count": null,
      "outputs": [
        {
          "output_type": "execute_result",
          "data": {
            "text/plain": [
              "((14261, 6), (6113, 6))"
            ]
          },
          "metadata": {},
          "execution_count": 64
        }
      ]
    },
    {
      "cell_type": "code",
      "source": [
        "log_Ytrain = np.log(train_set[\"median_house_value\"])\n",
        "\n",
        "#: means all rows, take col 5 only\n",
        "log_Ytrain = np.log(train_set.iloc[:,5])\n",
        "Ytest = test_set[\"median_house_value\"]\n",
        "\n",
        "#all rows and first 5 columns\n",
        "Xtrain = train_set.iloc[:,0:5]\n",
        "Xtest = test_set.iloc[:,0:5]"
      ],
      "metadata": {
        "id": "hvQ_8s0DkCfy"
      },
      "execution_count": null,
      "outputs": []
    },
    {
      "cell_type": "code",
      "source": [
        "Xtrain\n"
      ],
      "metadata": {
        "colab": {
          "base_uri": "https://localhost:8080/",
          "height": 423
        },
        "id": "jvD9Xn7FohDL",
        "outputId": "43d122a5-849c-4fd9-b1c8-50f62b5e7908"
      },
      "execution_count": null,
      "outputs": [
        {
          "output_type": "execute_result",
          "data": {
            "text/plain": [
              "       housing_median_age  median_income  rooms_per_household  \\\n",
              "844                  16.0         6.5116             6.157303   \n",
              "419                  52.0         6.3810             6.662338   \n",
              "19150                14.0         3.7813             5.826196   \n",
              "3590                 11.0         3.8583             5.186654   \n",
              "12111                28.0         2.2750             4.218553   \n",
              "...                   ...            ...                  ...   \n",
              "3770                 41.0         3.4208             4.183673   \n",
              "7473                 36.0         2.1715             3.996383   \n",
              "19963                22.0         2.5875             5.537736   \n",
              "5847                  5.0         3.3205             3.908897   \n",
              "14371                32.0         6.6661             6.859967   \n",
              "\n",
              "       bedrooms_per_household  population_per_household  \n",
              "844                  0.940075                  3.868914  \n",
              "419                  1.069264                  2.175325  \n",
              "19150                1.095718                  2.403023  \n",
              "3590                 1.121857                  2.691489  \n",
              "12111                1.113208                  3.218553  \n",
              "...                       ...                       ...  \n",
              "3770                 0.975510                  1.734694  \n",
              "7473                 1.146474                  4.233273  \n",
              "19963                0.986792                  3.635849  \n",
              "5847                 1.102491                  2.133096  \n",
              "14371                1.154860                  2.103789  \n",
              "\n",
              "[14261 rows x 5 columns]"
            ],
            "text/html": [
              "\n",
              "  <div id=\"df-1b74987b-12a7-44e6-96bf-ad9af06002dc\">\n",
              "    <div class=\"colab-df-container\">\n",
              "      <div>\n",
              "<style scoped>\n",
              "    .dataframe tbody tr th:only-of-type {\n",
              "        vertical-align: middle;\n",
              "    }\n",
              "\n",
              "    .dataframe tbody tr th {\n",
              "        vertical-align: top;\n",
              "    }\n",
              "\n",
              "    .dataframe thead th {\n",
              "        text-align: right;\n",
              "    }\n",
              "</style>\n",
              "<table border=\"1\" class=\"dataframe\">\n",
              "  <thead>\n",
              "    <tr style=\"text-align: right;\">\n",
              "      <th></th>\n",
              "      <th>housing_median_age</th>\n",
              "      <th>median_income</th>\n",
              "      <th>rooms_per_household</th>\n",
              "      <th>bedrooms_per_household</th>\n",
              "      <th>population_per_household</th>\n",
              "    </tr>\n",
              "  </thead>\n",
              "  <tbody>\n",
              "    <tr>\n",
              "      <th>844</th>\n",
              "      <td>16.0</td>\n",
              "      <td>6.5116</td>\n",
              "      <td>6.157303</td>\n",
              "      <td>0.940075</td>\n",
              "      <td>3.868914</td>\n",
              "    </tr>\n",
              "    <tr>\n",
              "      <th>419</th>\n",
              "      <td>52.0</td>\n",
              "      <td>6.3810</td>\n",
              "      <td>6.662338</td>\n",
              "      <td>1.069264</td>\n",
              "      <td>2.175325</td>\n",
              "    </tr>\n",
              "    <tr>\n",
              "      <th>19150</th>\n",
              "      <td>14.0</td>\n",
              "      <td>3.7813</td>\n",
              "      <td>5.826196</td>\n",
              "      <td>1.095718</td>\n",
              "      <td>2.403023</td>\n",
              "    </tr>\n",
              "    <tr>\n",
              "      <th>3590</th>\n",
              "      <td>11.0</td>\n",
              "      <td>3.8583</td>\n",
              "      <td>5.186654</td>\n",
              "      <td>1.121857</td>\n",
              "      <td>2.691489</td>\n",
              "    </tr>\n",
              "    <tr>\n",
              "      <th>12111</th>\n",
              "      <td>28.0</td>\n",
              "      <td>2.2750</td>\n",
              "      <td>4.218553</td>\n",
              "      <td>1.113208</td>\n",
              "      <td>3.218553</td>\n",
              "    </tr>\n",
              "    <tr>\n",
              "      <th>...</th>\n",
              "      <td>...</td>\n",
              "      <td>...</td>\n",
              "      <td>...</td>\n",
              "      <td>...</td>\n",
              "      <td>...</td>\n",
              "    </tr>\n",
              "    <tr>\n",
              "      <th>3770</th>\n",
              "      <td>41.0</td>\n",
              "      <td>3.4208</td>\n",
              "      <td>4.183673</td>\n",
              "      <td>0.975510</td>\n",
              "      <td>1.734694</td>\n",
              "    </tr>\n",
              "    <tr>\n",
              "      <th>7473</th>\n",
              "      <td>36.0</td>\n",
              "      <td>2.1715</td>\n",
              "      <td>3.996383</td>\n",
              "      <td>1.146474</td>\n",
              "      <td>4.233273</td>\n",
              "    </tr>\n",
              "    <tr>\n",
              "      <th>19963</th>\n",
              "      <td>22.0</td>\n",
              "      <td>2.5875</td>\n",
              "      <td>5.537736</td>\n",
              "      <td>0.986792</td>\n",
              "      <td>3.635849</td>\n",
              "    </tr>\n",
              "    <tr>\n",
              "      <th>5847</th>\n",
              "      <td>5.0</td>\n",
              "      <td>3.3205</td>\n",
              "      <td>3.908897</td>\n",
              "      <td>1.102491</td>\n",
              "      <td>2.133096</td>\n",
              "    </tr>\n",
              "    <tr>\n",
              "      <th>14371</th>\n",
              "      <td>32.0</td>\n",
              "      <td>6.6661</td>\n",
              "      <td>6.859967</td>\n",
              "      <td>1.154860</td>\n",
              "      <td>2.103789</td>\n",
              "    </tr>\n",
              "  </tbody>\n",
              "</table>\n",
              "<p>14261 rows × 5 columns</p>\n",
              "</div>\n",
              "      <button class=\"colab-df-convert\" onclick=\"convertToInteractive('df-1b74987b-12a7-44e6-96bf-ad9af06002dc')\"\n",
              "              title=\"Convert this dataframe to an interactive table.\"\n",
              "              style=\"display:none;\">\n",
              "        \n",
              "  <svg xmlns=\"http://www.w3.org/2000/svg\" height=\"24px\"viewBox=\"0 0 24 24\"\n",
              "       width=\"24px\">\n",
              "    <path d=\"M0 0h24v24H0V0z\" fill=\"none\"/>\n",
              "    <path d=\"M18.56 5.44l.94 2.06.94-2.06 2.06-.94-2.06-.94-.94-2.06-.94 2.06-2.06.94zm-11 1L8.5 8.5l.94-2.06 2.06-.94-2.06-.94L8.5 2.5l-.94 2.06-2.06.94zm10 10l.94 2.06.94-2.06 2.06-.94-2.06-.94-.94-2.06-.94 2.06-2.06.94z\"/><path d=\"M17.41 7.96l-1.37-1.37c-.4-.4-.92-.59-1.43-.59-.52 0-1.04.2-1.43.59L10.3 9.45l-7.72 7.72c-.78.78-.78 2.05 0 2.83L4 21.41c.39.39.9.59 1.41.59.51 0 1.02-.2 1.41-.59l7.78-7.78 2.81-2.81c.8-.78.8-2.07 0-2.86zM5.41 20L4 18.59l7.72-7.72 1.47 1.35L5.41 20z\"/>\n",
              "  </svg>\n",
              "      </button>\n",
              "      \n",
              "  <style>\n",
              "    .colab-df-container {\n",
              "      display:flex;\n",
              "      flex-wrap:wrap;\n",
              "      gap: 12px;\n",
              "    }\n",
              "\n",
              "    .colab-df-convert {\n",
              "      background-color: #E8F0FE;\n",
              "      border: none;\n",
              "      border-radius: 50%;\n",
              "      cursor: pointer;\n",
              "      display: none;\n",
              "      fill: #1967D2;\n",
              "      height: 32px;\n",
              "      padding: 0 0 0 0;\n",
              "      width: 32px;\n",
              "    }\n",
              "\n",
              "    .colab-df-convert:hover {\n",
              "      background-color: #E2EBFA;\n",
              "      box-shadow: 0px 1px 2px rgba(60, 64, 67, 0.3), 0px 1px 3px 1px rgba(60, 64, 67, 0.15);\n",
              "      fill: #174EA6;\n",
              "    }\n",
              "\n",
              "    [theme=dark] .colab-df-convert {\n",
              "      background-color: #3B4455;\n",
              "      fill: #D2E3FC;\n",
              "    }\n",
              "\n",
              "    [theme=dark] .colab-df-convert:hover {\n",
              "      background-color: #434B5C;\n",
              "      box-shadow: 0px 1px 3px 1px rgba(0, 0, 0, 0.15);\n",
              "      filter: drop-shadow(0px 1px 2px rgba(0, 0, 0, 0.3));\n",
              "      fill: #FFFFFF;\n",
              "    }\n",
              "  </style>\n",
              "\n",
              "      <script>\n",
              "        const buttonEl =\n",
              "          document.querySelector('#df-1b74987b-12a7-44e6-96bf-ad9af06002dc button.colab-df-convert');\n",
              "        buttonEl.style.display =\n",
              "          google.colab.kernel.accessAllowed ? 'block' : 'none';\n",
              "\n",
              "        async function convertToInteractive(key) {\n",
              "          const element = document.querySelector('#df-1b74987b-12a7-44e6-96bf-ad9af06002dc');\n",
              "          const dataTable =\n",
              "            await google.colab.kernel.invokeFunction('convertToInteractive',\n",
              "                                                     [key], {});\n",
              "          if (!dataTable) return;\n",
              "\n",
              "          const docLinkHtml = 'Like what you see? Visit the ' +\n",
              "            '<a target=\"_blank\" href=https://colab.research.google.com/notebooks/data_table.ipynb>data table notebook</a>'\n",
              "            + ' to learn more about interactive tables.';\n",
              "          element.innerHTML = '';\n",
              "          dataTable['output_type'] = 'display_data';\n",
              "          await google.colab.output.renderOutput(dataTable, element);\n",
              "          const docLink = document.createElement('div');\n",
              "          docLink.innerHTML = docLinkHtml;\n",
              "          element.appendChild(docLink);\n",
              "        }\n",
              "      </script>\n",
              "    </div>\n",
              "  </div>\n",
              "  "
            ]
          },
          "metadata": {},
          "execution_count": 66
        }
      ]
    },
    {
      "cell_type": "code",
      "source": [
        "Xtest"
      ],
      "metadata": {
        "colab": {
          "base_uri": "https://localhost:8080/",
          "height": 423
        },
        "id": "MWQZ55_QplFO",
        "outputId": "3b100648-1804-42aa-889d-89ee4a3418a3"
      },
      "execution_count": null,
      "outputs": [
        {
          "output_type": "execute_result",
          "data": {
            "text/plain": [
              "       housing_median_age  median_income  rooms_per_household  \\\n",
              "9029                 28.0         6.8300             6.748744   \n",
              "13811                26.0         2.7198             5.866817   \n",
              "20012                26.0         1.9439             5.768977   \n",
              "3666                 38.0         1.3594             4.310345   \n",
              "12452                20.0         1.9250             5.549618   \n",
              "...                   ...            ...                  ...   \n",
              "5397                 45.0         5.0866             5.710407   \n",
              "20493                23.0         6.0783             5.633987   \n",
              "15339                16.0         2.0147             4.598997   \n",
              "2523                 33.0         3.6429             6.253731   \n",
              "14063                20.0         2.2599             4.367308   \n",
              "\n",
              "       bedrooms_per_household  population_per_household  \n",
              "9029                 1.080402                  2.447236  \n",
              "13811                1.124153                  3.006772  \n",
              "20012                1.141914                  2.940594  \n",
              "3666                 1.448276                  2.172414  \n",
              "12452                1.244275                  2.381679  \n",
              "...                       ...                       ...  \n",
              "5397                 1.009050                  2.882353  \n",
              "20493                0.866013                  3.052288  \n",
              "15339                1.077694                  1.501253  \n",
              "2523                 1.149254                  2.835821  \n",
              "14063                1.157692                  1.907692  \n",
              "\n",
              "[6113 rows x 5 columns]"
            ],
            "text/html": [
              "\n",
              "  <div id=\"df-a3601962-9290-4b2a-b687-f3d40a6cae26\">\n",
              "    <div class=\"colab-df-container\">\n",
              "      <div>\n",
              "<style scoped>\n",
              "    .dataframe tbody tr th:only-of-type {\n",
              "        vertical-align: middle;\n",
              "    }\n",
              "\n",
              "    .dataframe tbody tr th {\n",
              "        vertical-align: top;\n",
              "    }\n",
              "\n",
              "    .dataframe thead th {\n",
              "        text-align: right;\n",
              "    }\n",
              "</style>\n",
              "<table border=\"1\" class=\"dataframe\">\n",
              "  <thead>\n",
              "    <tr style=\"text-align: right;\">\n",
              "      <th></th>\n",
              "      <th>housing_median_age</th>\n",
              "      <th>median_income</th>\n",
              "      <th>rooms_per_household</th>\n",
              "      <th>bedrooms_per_household</th>\n",
              "      <th>population_per_household</th>\n",
              "    </tr>\n",
              "  </thead>\n",
              "  <tbody>\n",
              "    <tr>\n",
              "      <th>9029</th>\n",
              "      <td>28.0</td>\n",
              "      <td>6.8300</td>\n",
              "      <td>6.748744</td>\n",
              "      <td>1.080402</td>\n",
              "      <td>2.447236</td>\n",
              "    </tr>\n",
              "    <tr>\n",
              "      <th>13811</th>\n",
              "      <td>26.0</td>\n",
              "      <td>2.7198</td>\n",
              "      <td>5.866817</td>\n",
              "      <td>1.124153</td>\n",
              "      <td>3.006772</td>\n",
              "    </tr>\n",
              "    <tr>\n",
              "      <th>20012</th>\n",
              "      <td>26.0</td>\n",
              "      <td>1.9439</td>\n",
              "      <td>5.768977</td>\n",
              "      <td>1.141914</td>\n",
              "      <td>2.940594</td>\n",
              "    </tr>\n",
              "    <tr>\n",
              "      <th>3666</th>\n",
              "      <td>38.0</td>\n",
              "      <td>1.3594</td>\n",
              "      <td>4.310345</td>\n",
              "      <td>1.448276</td>\n",
              "      <td>2.172414</td>\n",
              "    </tr>\n",
              "    <tr>\n",
              "      <th>12452</th>\n",
              "      <td>20.0</td>\n",
              "      <td>1.9250</td>\n",
              "      <td>5.549618</td>\n",
              "      <td>1.244275</td>\n",
              "      <td>2.381679</td>\n",
              "    </tr>\n",
              "    <tr>\n",
              "      <th>...</th>\n",
              "      <td>...</td>\n",
              "      <td>...</td>\n",
              "      <td>...</td>\n",
              "      <td>...</td>\n",
              "      <td>...</td>\n",
              "    </tr>\n",
              "    <tr>\n",
              "      <th>5397</th>\n",
              "      <td>45.0</td>\n",
              "      <td>5.0866</td>\n",
              "      <td>5.710407</td>\n",
              "      <td>1.009050</td>\n",
              "      <td>2.882353</td>\n",
              "    </tr>\n",
              "    <tr>\n",
              "      <th>20493</th>\n",
              "      <td>23.0</td>\n",
              "      <td>6.0783</td>\n",
              "      <td>5.633987</td>\n",
              "      <td>0.866013</td>\n",
              "      <td>3.052288</td>\n",
              "    </tr>\n",
              "    <tr>\n",
              "      <th>15339</th>\n",
              "      <td>16.0</td>\n",
              "      <td>2.0147</td>\n",
              "      <td>4.598997</td>\n",
              "      <td>1.077694</td>\n",
              "      <td>1.501253</td>\n",
              "    </tr>\n",
              "    <tr>\n",
              "      <th>2523</th>\n",
              "      <td>33.0</td>\n",
              "      <td>3.6429</td>\n",
              "      <td>6.253731</td>\n",
              "      <td>1.149254</td>\n",
              "      <td>2.835821</td>\n",
              "    </tr>\n",
              "    <tr>\n",
              "      <th>14063</th>\n",
              "      <td>20.0</td>\n",
              "      <td>2.2599</td>\n",
              "      <td>4.367308</td>\n",
              "      <td>1.157692</td>\n",
              "      <td>1.907692</td>\n",
              "    </tr>\n",
              "  </tbody>\n",
              "</table>\n",
              "<p>6113 rows × 5 columns</p>\n",
              "</div>\n",
              "      <button class=\"colab-df-convert\" onclick=\"convertToInteractive('df-a3601962-9290-4b2a-b687-f3d40a6cae26')\"\n",
              "              title=\"Convert this dataframe to an interactive table.\"\n",
              "              style=\"display:none;\">\n",
              "        \n",
              "  <svg xmlns=\"http://www.w3.org/2000/svg\" height=\"24px\"viewBox=\"0 0 24 24\"\n",
              "       width=\"24px\">\n",
              "    <path d=\"M0 0h24v24H0V0z\" fill=\"none\"/>\n",
              "    <path d=\"M18.56 5.44l.94 2.06.94-2.06 2.06-.94-2.06-.94-.94-2.06-.94 2.06-2.06.94zm-11 1L8.5 8.5l.94-2.06 2.06-.94-2.06-.94L8.5 2.5l-.94 2.06-2.06.94zm10 10l.94 2.06.94-2.06 2.06-.94-2.06-.94-.94-2.06-.94 2.06-2.06.94z\"/><path d=\"M17.41 7.96l-1.37-1.37c-.4-.4-.92-.59-1.43-.59-.52 0-1.04.2-1.43.59L10.3 9.45l-7.72 7.72c-.78.78-.78 2.05 0 2.83L4 21.41c.39.39.9.59 1.41.59.51 0 1.02-.2 1.41-.59l7.78-7.78 2.81-2.81c.8-.78.8-2.07 0-2.86zM5.41 20L4 18.59l7.72-7.72 1.47 1.35L5.41 20z\"/>\n",
              "  </svg>\n",
              "      </button>\n",
              "      \n",
              "  <style>\n",
              "    .colab-df-container {\n",
              "      display:flex;\n",
              "      flex-wrap:wrap;\n",
              "      gap: 12px;\n",
              "    }\n",
              "\n",
              "    .colab-df-convert {\n",
              "      background-color: #E8F0FE;\n",
              "      border: none;\n",
              "      border-radius: 50%;\n",
              "      cursor: pointer;\n",
              "      display: none;\n",
              "      fill: #1967D2;\n",
              "      height: 32px;\n",
              "      padding: 0 0 0 0;\n",
              "      width: 32px;\n",
              "    }\n",
              "\n",
              "    .colab-df-convert:hover {\n",
              "      background-color: #E2EBFA;\n",
              "      box-shadow: 0px 1px 2px rgba(60, 64, 67, 0.3), 0px 1px 3px 1px rgba(60, 64, 67, 0.15);\n",
              "      fill: #174EA6;\n",
              "    }\n",
              "\n",
              "    [theme=dark] .colab-df-convert {\n",
              "      background-color: #3B4455;\n",
              "      fill: #D2E3FC;\n",
              "    }\n",
              "\n",
              "    [theme=dark] .colab-df-convert:hover {\n",
              "      background-color: #434B5C;\n",
              "      box-shadow: 0px 1px 3px 1px rgba(0, 0, 0, 0.15);\n",
              "      filter: drop-shadow(0px 1px 2px rgba(0, 0, 0, 0.3));\n",
              "      fill: #FFFFFF;\n",
              "    }\n",
              "  </style>\n",
              "\n",
              "      <script>\n",
              "        const buttonEl =\n",
              "          document.querySelector('#df-a3601962-9290-4b2a-b687-f3d40a6cae26 button.colab-df-convert');\n",
              "        buttonEl.style.display =\n",
              "          google.colab.kernel.accessAllowed ? 'block' : 'none';\n",
              "\n",
              "        async function convertToInteractive(key) {\n",
              "          const element = document.querySelector('#df-a3601962-9290-4b2a-b687-f3d40a6cae26');\n",
              "          const dataTable =\n",
              "            await google.colab.kernel.invokeFunction('convertToInteractive',\n",
              "                                                     [key], {});\n",
              "          if (!dataTable) return;\n",
              "\n",
              "          const docLinkHtml = 'Like what you see? Visit the ' +\n",
              "            '<a target=\"_blank\" href=https://colab.research.google.com/notebooks/data_table.ipynb>data table notebook</a>'\n",
              "            + ' to learn more about interactive tables.';\n",
              "          element.innerHTML = '';\n",
              "          dataTable['output_type'] = 'display_data';\n",
              "          await google.colab.output.renderOutput(dataTable, element);\n",
              "          const docLink = document.createElement('div');\n",
              "          docLink.innerHTML = docLinkHtml;\n",
              "          element.appendChild(docLink);\n",
              "        }\n",
              "      </script>\n",
              "    </div>\n",
              "  </div>\n",
              "  "
            ]
          },
          "metadata": {},
          "execution_count": 67
        }
      ]
    },
    {
      "cell_type": "code",
      "source": [
        "# Fit LS to training data\n",
        "\n",
        "lin_reg = LinearRegression(fit_intercept=True)\n",
        "lin_reg.fit(Xtrain, log_Ytrain) #(X,Y)\n",
        "print('intercept', lin_reg.intercept_)\n",
        "print('coefficeints', lin_reg.coef_)"
      ],
      "metadata": {
        "id": "UDVr1d1Nes3N",
        "colab": {
          "base_uri": "https://localhost:8080/"
        },
        "outputId": "3485da87-8a3e-4b4a-d01e-d95fd3f897cd"
      },
      "execution_count": null,
      "outputs": [
        {
          "output_type": "stream",
          "name": "stdout",
          "text": [
            "intercept 11.82615634949681\n",
            "coefficeints [ 0.0054877   0.26192834 -0.13208086  0.19806505 -0.14591691]\n"
          ]
        }
      ]
    },
    {
      "cell_type": "code",
      "source": [
        " # R2\n",
        "r_sq = lin_reg.score(Xtrain, log_Ytrain)\n",
        "print(r_sq)\n",
        "\n",
        "# Prediction\n",
        "log_Ypred = lin_reg.predict(Xtest)\n",
        "Ypred = np.exp(log_Ypred)\n"
      ],
      "metadata": {
        "id": "_6F3kzoFeuvP",
        "colab": {
          "base_uri": "https://localhost:8080/"
        },
        "outputId": "a1f2659c-683b-42ae-a62d-ccf600911d50"
      },
      "execution_count": null,
      "outputs": [
        {
          "output_type": "stream",
          "name": "stdout",
          "text": [
            "0.5425597959160843\n"
          ]
        }
      ]
    },
    {
      "cell_type": "code",
      "source": [
        "\n",
        "from sklearn.metrics import mean_squared_error\n",
        "lin_reg_mse = mean_squared_error(Ypred, Ytest)\n",
        "lin_reg_rmse = np.sqrt(lin_reg_mse)\n",
        "lin_reg_rmse"
      ],
      "metadata": {
        "id": "OrGPWBSYeypj",
        "colab": {
          "base_uri": "https://localhost:8080/"
        },
        "outputId": "a278c1d8-6903-4ad9-e9d8-01cac4343cc5"
      },
      "execution_count": null,
      "outputs": [
        {
          "output_type": "execute_result",
          "data": {
            "text/plain": [
              "0.3242462936021454"
            ]
          },
          "metadata": {},
          "execution_count": 83
        }
      ]
    },
    {
      "cell_type": "code",
      "source": [
        "# Plotting\n",
        "import matplotlib.pyplot as plt\n",
        "T=list(range(0,len(Ypred)))\n",
        "T=np.array(T)\n",
        "T\n",
        "log_Ytest = np.log(Ytest)\n",
        "\n",
        "plt.figure()\n",
        "plt.plot(T, log_Ypred, color='blue', linewidth=3)\n",
        "plt.plot(T, log_Ytest, color='black')\n",
        "plt.show()"
      ],
      "metadata": {
        "id": "ICPkXNYee2jG",
        "colab": {
          "base_uri": "https://localhost:8080/",
          "height": 264
        },
        "outputId": "3bff7903-f190-49b4-d8a2-d14d3fce3726"
      },
      "execution_count": null,
      "outputs": [
        {
          "output_type": "display_data",
          "data": {
            "text/plain": [
              "<Figure size 432x288 with 1 Axes>"
            ],
            "image/png": "[encoded data removed]"
          },
          "metadata": {
            "needs_background": "light"
          }
        }
      ]
    },
    {
      "cell_type": "code",
      "source": [
        "#****************************************************\n",
        "# One hot encoder\n",
        "#**************************************************\n",
        "from sklearn.preprocessing import OneHotEncoder\n",
        "ocean = data[[\"ocean_proximity\"]]\n",
        "ocean_tranform = OneHotEncoder()\n",
        "ocean_new = ocean_tranform.fit_transform(ocean) # should be in data frame\n",
        "ocean_new"
      ],
      "metadata": {
        "id": "XFDdoBSOfAt2",
        "colab": {
          "base_uri": "https://localhost:8080/"
        },
        "outputId": "2f8d4de6-9186-4bb5-8bfc-9a6498caf6ce"
      },
      "execution_count": null,
      "outputs": [
        {
          "output_type": "execute_result",
          "data": {
            "text/plain": [
              "<20640x5 sparse matrix of type '<class 'numpy.float64'>'\n",
              "\twith 20640 stored elements in Compressed Sparse Row format>"
            ]
          },
          "metadata": {},
          "execution_count": 72
        }
      ]
    },
    {
      "cell_type": "code",
      "source": [
        "#convert to a Numpy dense array\n",
        "ocean_new.toarray()"
      ],
      "metadata": {
        "colab": {
          "base_uri": "https://localhost:8080/"
        },
        "id": "IS3l9_GgqhTC",
        "outputId": "66348067-9c79-41eb-f3ca-9afa1c870935"
      },
      "execution_count": null,
      "outputs": [
        {
          "output_type": "execute_result",
          "data": {
            "text/plain": [
              "array([[0., 0., 0., 1., 0.],\n",
              "       [0., 0., 0., 1., 0.],\n",
              "       [0., 0., 0., 1., 0.],\n",
              "       ...,\n",
              "       [0., 1., 0., 0., 0.],\n",
              "       [0., 1., 0., 0., 0.],\n",
              "       [0., 1., 0., 0., 0.]])"
            ]
          },
          "metadata": {},
          "execution_count": 73
        }
      ]
    },
    {
      "cell_type": "code",
      "source": [
        "ocean_tranform.categories_"
      ],
      "metadata": {
        "colab": {
          "base_uri": "https://localhost:8080/"
        },
        "id": "XUMYqOOeqtkj",
        "outputId": "7ddd1083-4b1c-483e-e934-302bd17adf41"
      },
      "execution_count": null,
      "outputs": [
        {
          "output_type": "execute_result",
          "data": {
            "text/plain": [
              "[array(['<1H OCEAN', 'INLAND', 'ISLAND', 'NEAR BAY', 'NEAR OCEAN'],\n",
              "       dtype=object)]"
            ]
          },
          "metadata": {},
          "execution_count": 74
        }
      ]
    },
    {
      "cell_type": "markdown",
      "source": [
        "# Random tree forest"
      ],
      "metadata": {
        "id": "vImiMFQxfFEI"
      }
    },
    {
      "cell_type": "code",
      "source": [
        "from sklearn.compose import ColumnTransformer\n",
        "from sklearn.pipeline import Pipeline\n",
        "from sklearn.impute import SimpleImputer\n",
        "from sklearn.preprocessing import StandardScaler, OneHotEncoder"
      ],
      "metadata": {
        "id": "Y1wIRvlKfDEf"
      },
      "execution_count": null,
      "outputs": []
    },
    {
      "cell_type": "code",
      "source": [
        "housing_rtf = data.iloc[:,[0,1,2,7,9,10,11,12]]\n",
        "# transforming data using Pipeline\n",
        "num_features = [\"longitude\",\"latitude\",\"housing_median_age\",\"median_income\",\"rooms_per_household\", \"bedrooms_per_household\",\"population_per_household\"]\n",
        "num_transformer = Pipeline([('imputer', SimpleImputer(strategy=\"median\")),('scaler', StandardScaler())])\n",
        "cat_features = [\"ocean_proximity\"]\n",
        "cat_transformer = OneHotEncoder()\n",
        "preprocessor = ColumnTransformer([(\"num\", num_transformer, num_features),(\"cat\", cat_transformer, cat_features)])\n",
        "housing_rtf = preprocessor.fit_transform(housing_rtf)\n",
        "\n",
        "\n"
      ],
      "metadata": {
        "id": "PuKUfmUYfKNU"
      },
      "execution_count": null,
      "outputs": []
    },
    {
      "cell_type": "code",
      "source": [
        "housing_rtf"
      ],
      "metadata": {
        "id": "FmhU3AzcsOb3",
        "outputId": "b73d77a1-cb29-4527-c1c0-e2dc7373e145",
        "colab": {
          "base_uri": "https://localhost:8080/"
        }
      },
      "execution_count": null,
      "outputs": [
        {
          "output_type": "execute_result",
          "data": {
            "text/plain": [
              "array([[-1.32783522,  1.05254828,  0.98214266, ...,  0.        ,\n",
              "         1.        ,  0.        ],\n",
              "       [-1.32284391,  1.04318455, -0.60701891, ...,  0.        ,\n",
              "         1.        ,  0.        ],\n",
              "       [-1.33282653,  1.03850269,  1.85618152, ...,  0.        ,\n",
              "         1.        ,  0.        ],\n",
              "       ...,\n",
              "       [-0.8237132 ,  1.77823747, -0.92485123, ...,  0.        ,\n",
              "         0.        ,  0.        ],\n",
              "       [-0.87362627,  1.77823747, -0.84539315, ...,  0.        ,\n",
              "         0.        ,  0.        ],\n",
              "       [-0.83369581,  1.75014627, -1.00430931, ...,  0.        ,\n",
              "         0.        ,  0.        ]])"
            ]
          },
          "metadata": {},
          "execution_count": 84
        }
      ]
    },
    {
      "cell_type": "markdown",
      "source": [
        "https://www.w3schools.com/python/numpy/numpy_array_reshape.asp\n",
        "\n",
        "Unknown Dimension\n",
        "You are allowed to have one \"unknown\" dimension.\n",
        "\n",
        "Meaning that you do not have to specify an exact number for one of the dimensions in the reshape method.\n",
        "\n",
        "Pass -1 as the value, and NumPy will calculate this number for you"
      ],
      "metadata": {
        "id": "pn-GYX9hvWG_"
      }
    },
    {
      "cell_type": "code",
      "source": [
        "#takes Y column and changes to numpy array\n",
        "Y = data.iloc[:,13].to_numpy()\n",
        "Y= Y.reshape((-1,1))\n",
        "Y"
      ],
      "metadata": {
        "id": "sV9rYICpvUUU",
        "colab": {
          "base_uri": "https://localhost:8080/"
        },
        "outputId": "38d0672c-4759-4f06-eaff-f65cfa634fee"
      },
      "execution_count": null,
      "outputs": [
        {
          "output_type": "execute_result",
          "data": {
            "text/plain": [
              "array([[1.],\n",
              "       [1.],\n",
              "       [1.],\n",
              "       ...,\n",
              "       [0.],\n",
              "       [0.],\n",
              "       [0.]])"
            ]
          },
          "metadata": {},
          "execution_count": 77
        }
      ]
    },
    {
      "cell_type": "code",
      "source": [
        "#combine column wise\n",
        "housing_rtf_final = pd.DataFrame(np.concatenate((housing_rtf,Y),axis=1))\n",
        "random.seed(10)\n",
        "train_set, test_set = train_test_split(housing_rtf_final, test_size=0.3, random_state=12)\n",
        "Ytrain = train_set.iloc[:,12]\n",
        "Ytest =test_set.iloc[:,12]\n",
        "Xtrain = train_set.iloc[:,0:12]\n",
        "Xtest = test_set.iloc[:,0:12]"
      ],
      "metadata": {
        "id": "5vduqmjyfX93"
      },
      "execution_count": null,
      "outputs": []
    },
    {
      "cell_type": "code",
      "source": [
        "from sklearn.ensemble import RandomForestClassifier\n",
        "#Create a Gaussian Classifier\n",
        "rf=RandomForestClassifier()\n",
        "rf.fit(Xtrain,Ytrain)\n",
        "\n",
        "Ypred=rf.predict(Xtest)"
      ],
      "metadata": {
        "id": "ynDQSshQfNdv"
      },
      "execution_count": null,
      "outputs": []
    },
    {
      "cell_type": "code",
      "source": [
        "from sklearn import metrics\n",
        "# Model Accuracy, how often is the classifier correct?\n",
        "print(\"Accuracy:\",metrics.accuracy_score(Ytest, Ypred))\n"
      ],
      "metadata": {
        "id": "XijuB_FefODj",
        "colab": {
          "base_uri": "https://localhost:8080/"
        },
        "outputId": "a4ef5824-3ac5-46dd-e394-93ff5628ec0b"
      },
      "execution_count": null,
      "outputs": [
        {
          "output_type": "stream",
          "name": "stdout",
          "text": [
            "Accuracy: 0.8948643410852714\n"
          ]
        }
      ]
    },
    {
      "cell_type": "markdown",
      "source": [
        "![image.png](data:image/png;base64,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)"
      ],
      "metadata": {
        "id": "DJKYoOB_aKvR"
      }
    },
    {
      "cell_type": "code",
      "source": [
        "confusion_matrix = metrics.confusion_matrix(Ytest, Ypred)\n",
        "confusion_matrix"
      ],
      "metadata": {
        "colab": {
          "base_uri": "https://localhost:8080/"
        },
        "id": "jtqACT07v26Y",
        "outputId": "cbeddb99-03f6-471c-b366-70fa0b26ad96"
      },
      "execution_count": null,
      "outputs": [
        {
          "output_type": "execute_result",
          "data": {
            "text/plain": [
              "array([[2756,  332],\n",
              "       [ 319, 2785]])"
            ]
          },
          "metadata": {},
          "execution_count": 81
        }
      ]
    },
    {
      "cell_type": "markdown",
      "source": [
        "The diagonal elements represent the total correct values predicted per class\n",
        "\n",
        "The lighter the color, the greater the number as we can see from the color-bar on the sid"
      ],
      "metadata": {
        "id": "nZuII5gza_GU"
      }
    },
    {
      "cell_type": "code",
      "source": [
        "#Create a Confusion Matrix heatmap from the above data\n",
        "import seaborn as sns\n",
        "sns.heatmap(confusion_matrix, annot=True, linewidths = 0.01)"
      ],
      "metadata": {
        "colab": {
          "base_uri": "https://localhost:8080/",
          "height": 283
        },
        "id": "NeH04cMUat0s",
        "outputId": "14868080-1022-4e25-de9c-7549f6b0e3eb"
      },
      "execution_count": null,
      "outputs": [
        {
          "output_type": "execute_result",
          "data": {
            "text/plain": [
              "<matplotlib.axes._subplots.AxesSubplot at 0x7fa9adcf4fd0>"
            ]
          },
          "metadata": {},
          "execution_count": 82
        },
        {
          "output_type": "display_data",
          "data": {
            "text/plain": [
              "<Figure size 432x288 with 2 Axes>"
            ],
            "image/png": "[encoded data removed]"
          },
          "metadata": {
            "needs_background": "light"
          }
        }
      ]
    }
  ]
}